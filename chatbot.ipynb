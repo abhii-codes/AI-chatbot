{
  "cells": [
    {
      "cell_type": "code",
      "execution_count": null,
      "metadata": {
        "colab": {
          "base_uri": "https://localhost:8080/"
        },
        "id": "s8_qDTC1nO7g",
        "outputId": "6c00e782-66a9-4dd9-8484-8149afc5dd5b"
      },
      "outputs": [
        {
          "name": "stderr",
          "output_type": "stream",
          "text": [
            "[nltk_data] Downloading package punkt to /root/nltk_data...\n",
            "[nltk_data]   Unzipping tokenizers/punkt.zip.\n",
            "[nltk_data] Downloading package stopwords to /root/nltk_data...\n",
            "[nltk_data]   Unzipping corpora/stopwords.zip.\n",
            "[nltk_data] Downloading package wordnet to /root/nltk_data...\n"
          ]
        }
      ],
      "source": [
        "import random\n",
        "import json\n",
        "import pickle\n",
        "import numpy as np\n",
        "import tensorflow as tf\n",
        "\n",
        "import nltk\n",
        "nltk.download('punkt')\n",
        "nltk.download('stopwords')\n",
        "nltk.download('wordnet')\n",
        "# nltk.download()\n",
        "from nltk.stem import WordNetLemmatizer\n",
        "# from nltk.stem import WordNetLemmatizer\n",
        "\n",
        "from tensorflow.keras.models import load_model"
      ]
    },
    {
      "cell_type": "code",
      "execution_count": null,
      "metadata": {
        "id": "64-Ze4v8pS8V"
      },
      "outputs": [],
      "source": [
        "lemmatizer = WordNetLemmatizer()\n",
        "\n",
        "intents = json.loads(open('intents.json').read())"
      ]
    },
    {
      "cell_type": "code",
      "execution_count": null,
      "metadata": {
        "id": "nF2_aA27pZSY"
      },
      "outputs": [],
      "source": [
        "words = []\n",
        "classes = []\n",
        "documents = []\n",
        "ignoreLetters = ['?', '!', '.', ',']"
      ]
    },
    {
      "cell_type": "code",
      "execution_count": null,
      "metadata": {
        "id": "JNtcX1VWpdPA"
      },
      "outputs": [],
      "source": [
        "for intent in intents['intents']:\n",
        "    for pattern in intent['patterns']:\n",
        "        wordList = nltk.word_tokenize(pattern)\n",
        "        words.extend(wordList)\n",
        "        documents.append((wordList, intent['tag']))\n",
        "        if intent['tag'] not in classes:\n",
        "            classes.append(intent['tag'])"
      ]
    },
    {
      "cell_type": "markdown",
      "metadata": {
        "id": "floLO9j7yneD"
      },
      "source": [
        "# New Section"
      ]
    },
    {
      "cell_type": "code",
      "execution_count": null,
      "metadata": {
        "id": "ZwWC_LGWqUh4"
      },
      "outputs": [],
      "source": [
        "words = [lemmatizer.lemmatize(word) for word in words if word not in ignoreLetters]\n",
        "words = sorted(set(words))\n",
        "\n",
        "classes = sorted(set(classes))"
      ]
    },
    {
      "cell_type": "code",
      "execution_count": null,
      "metadata": {
        "id": "h_bYlb5zq2t4"
      },
      "outputs": [],
      "source": [
        "pickle.dump(words, open('words.pkl', 'wb'))\n",
        "pickle.dump(classes, open('classes.pkl', 'wb'))"
      ]
    },
    {
      "cell_type": "code",
      "execution_count": null,
      "metadata": {
        "colab": {
          "base_uri": "https://localhost:8080/"
        },
        "id": "4XehLMtfq87R",
        "outputId": "4e7017d7-00aa-4301-cbda-3ad3297005ce"
      },
      "outputs": [
        {
          "name": "stdout",
          "output_type": "stream",
          "text": [
            "['admission', 'canteen', 'college intake', 'committee', 'computerhod', 'course', 'creator', 'document', 'event', 'extchod', 'facilities', 'fees', 'floors', 'goodbye', 'greeting', 'hod', 'hostel', 'hours', 'infrastructure', 'ithod', 'library', 'location', 'menu', 'name', 'number', 'placement', 'principal', 'ragging', 'random', 'salutaion', 'scholarship', 'sem', 'sports', 'swear', 'syllabus', 'task', 'uniform', 'vacation']\n"
          ]
        }
      ],
      "source": [
        "training = []\n",
        "print(classes)\n",
        "outputEmpty = [0] * len(classes)\n",
        "\n",
        "# outputEmpty = [0] * len(classes)"
      ]
    },
    {
      "cell_type": "code",
      "execution_count": null,
      "metadata": {
        "id": "d4BTufoZs9tF"
      },
      "outputs": [],
      "source": [
        "for document in documents:\n",
        "    bag = []\n",
        "    wordPatterns = document[0]\n",
        "    wordPatterns = [lemmatizer.lemmatize(word.lower()) for word in wordPatterns]\n",
        "    for word in words:\n",
        "        bag.append(1) if word in wordPatterns else bag.append(0)\n",
        "\n",
        "    outputRow = list(outputEmpty)\n",
        "    outputRow[classes.index(document[1])] = 1\n",
        "    training.append(bag + outputRow)"
      ]
    },
    {
      "cell_type": "code",
      "execution_count": null,
      "metadata": {
        "id": "AxomxepHtAE4"
      },
      "outputs": [],
      "source": [
        "random.shuffle(training)\n",
        "training = np.array(training)\n",
        "\n",
        "trainX = training[:, :len(words)]\n",
        "trainY = training[:, len(words):]"
      ]
    },
    {
      "cell_type": "code",
      "execution_count": null,
      "metadata": {
        "id": "J9ZWVR_VtKS2"
      },
      "outputs": [],
      "source": [
        "model = tf.keras.Sequential()\n",
        "model.add(tf.keras.layers.Dense(128, input_shape=(len(trainX[0]),), activation = 'relu'))\n",
        "model.add(tf.keras.layers.Dropout(0.5))\n",
        "model.add(tf.keras.layers.Dense(64, activation = 'relu'))\n",
        "model.add(tf.keras.layers.Dropout(0.5))\n",
        "model.add(tf.keras.layers.Dense(len(trainY[0]), activation='softmax'))"
      ]
    },
    {
      "cell_type": "code",
      "execution_count": null,
      "metadata": {
        "id": "M8KIw9HLtQtg"
      },
      "outputs": [],
      "source": [
        "sgd = tf.keras.optimizers.SGD(learning_rate=0.01, momentum=0.9, nesterov=True)\n",
        "model.compile(loss='categorical_crossentropy', optimizer=sgd, metrics=['accuracy'])"
      ]
    },
    {
      "cell_type": "code",
      "execution_count": null,
      "metadata": {
        "colab": {
          "base_uri": "https://localhost:8080/"
        },
        "id": "qAYnYpx0tWbq",
        "outputId": "20588798-f07f-4887-c8fe-27803705eafd"
      },
      "outputs": [
        {
          "name": "stdout",
          "output_type": "stream",
          "text": [
            "Epoch 1/200\n",
            "81/81 [==============================] - 1s 3ms/step - loss: 3.5937 - accuracy: 0.0617\n",
            "Epoch 2/200\n",
            "81/81 [==============================] - 0s 2ms/step - loss: 3.4212 - accuracy: 0.1284\n",
            "Epoch 3/200\n",
            "81/81 [==============================] - 0s 2ms/step - loss: 3.1916 - accuracy: 0.1778\n",
            "Epoch 4/200\n",
            "81/81 [==============================] - 0s 2ms/step - loss: 2.9075 - accuracy: 0.2593\n",
            "Epoch 5/200\n",
            "81/81 [==============================] - 0s 2ms/step - loss: 2.6757 - accuracy: 0.3086\n",
            "Epoch 6/200\n",
            "81/81 [==============================] - 0s 2ms/step - loss: 2.3545 - accuracy: 0.3951\n",
            "Epoch 7/200\n",
            "81/81 [==============================] - 0s 2ms/step - loss: 2.1859 - accuracy: 0.4346\n",
            "Epoch 8/200\n",
            "81/81 [==============================] - 0s 2ms/step - loss: 2.0192 - accuracy: 0.4543\n",
            "Epoch 9/200\n",
            "81/81 [==============================] - 0s 2ms/step - loss: 1.8424 - accuracy: 0.5037\n",
            "Epoch 10/200\n",
            "81/81 [==============================] - 0s 3ms/step - loss: 1.7016 - accuracy: 0.5506\n",
            "Epoch 11/200\n",
            "81/81 [==============================] - 0s 2ms/step - loss: 1.4928 - accuracy: 0.5753\n",
            "Epoch 12/200\n",
            "81/81 [==============================] - 0s 2ms/step - loss: 1.3028 - accuracy: 0.6395\n",
            "Epoch 13/200\n",
            "81/81 [==============================] - 0s 2ms/step - loss: 1.2655 - accuracy: 0.6222\n",
            "Epoch 14/200\n",
            "81/81 [==============================] - 0s 2ms/step - loss: 1.1575 - accuracy: 0.6568\n",
            "Epoch 15/200\n",
            "81/81 [==============================] - 0s 2ms/step - loss: 1.0875 - accuracy: 0.6840\n",
            "Epoch 16/200\n",
            "81/81 [==============================] - 0s 2ms/step - loss: 1.1014 - accuracy: 0.6889\n",
            "Epoch 17/200\n",
            "81/81 [==============================] - 0s 2ms/step - loss: 0.9716 - accuracy: 0.7358\n",
            "Epoch 18/200\n",
            "81/81 [==============================] - 0s 2ms/step - loss: 0.9669 - accuracy: 0.7185\n",
            "Epoch 19/200\n",
            "81/81 [==============================] - 0s 2ms/step - loss: 0.9047 - accuracy: 0.7309\n",
            "Epoch 20/200\n",
            "81/81 [==============================] - 0s 3ms/step - loss: 0.7922 - accuracy: 0.7556\n",
            "Epoch 21/200\n",
            "81/81 [==============================] - 0s 2ms/step - loss: 0.7296 - accuracy: 0.7975\n",
            "Epoch 22/200\n",
            "81/81 [==============================] - 0s 2ms/step - loss: 0.6244 - accuracy: 0.8049\n",
            "Epoch 23/200\n",
            "81/81 [==============================] - 0s 2ms/step - loss: 0.6424 - accuracy: 0.8049\n",
            "Epoch 24/200\n",
            "81/81 [==============================] - 0s 2ms/step - loss: 0.7131 - accuracy: 0.7852\n",
            "Epoch 25/200\n",
            "81/81 [==============================] - 0s 2ms/step - loss: 0.6527 - accuracy: 0.8025\n",
            "Epoch 26/200\n",
            "81/81 [==============================] - 0s 2ms/step - loss: 0.6332 - accuracy: 0.8000\n",
            "Epoch 27/200\n",
            "81/81 [==============================] - 0s 2ms/step - loss: 0.6201 - accuracy: 0.8099\n",
            "Epoch 28/200\n",
            "81/81 [==============================] - 0s 2ms/step - loss: 0.5544 - accuracy: 0.8519\n",
            "Epoch 29/200\n",
            "81/81 [==============================] - 0s 2ms/step - loss: 0.5447 - accuracy: 0.8543\n",
            "Epoch 30/200\n",
            "81/81 [==============================] - 0s 2ms/step - loss: 0.5233 - accuracy: 0.8346\n",
            "Epoch 31/200\n",
            "81/81 [==============================] - 0s 2ms/step - loss: 0.5737 - accuracy: 0.8370\n",
            "Epoch 32/200\n",
            "81/81 [==============================] - 0s 2ms/step - loss: 0.4101 - accuracy: 0.8963\n",
            "Epoch 33/200\n",
            "81/81 [==============================] - 0s 2ms/step - loss: 0.3951 - accuracy: 0.8765\n",
            "Epoch 34/200\n",
            "81/81 [==============================] - 0s 2ms/step - loss: 0.4316 - accuracy: 0.8815\n",
            "Epoch 35/200\n",
            "81/81 [==============================] - 0s 2ms/step - loss: 0.3773 - accuracy: 0.9037\n",
            "Epoch 36/200\n",
            "81/81 [==============================] - 0s 2ms/step - loss: 0.5066 - accuracy: 0.8469\n",
            "Epoch 37/200\n",
            "81/81 [==============================] - 0s 2ms/step - loss: 0.4490 - accuracy: 0.8593\n",
            "Epoch 38/200\n",
            "81/81 [==============================] - 0s 2ms/step - loss: 0.4268 - accuracy: 0.8815\n",
            "Epoch 39/200\n",
            "81/81 [==============================] - 0s 2ms/step - loss: 0.4548 - accuracy: 0.8864\n",
            "Epoch 40/200\n",
            "81/81 [==============================] - 0s 2ms/step - loss: 0.4098 - accuracy: 0.8790\n",
            "Epoch 41/200\n",
            "81/81 [==============================] - 0s 2ms/step - loss: 0.3699 - accuracy: 0.8988\n",
            "Epoch 42/200\n",
            "81/81 [==============================] - 0s 2ms/step - loss: 0.4087 - accuracy: 0.8815\n",
            "Epoch 43/200\n",
            "81/81 [==============================] - 0s 2ms/step - loss: 0.3406 - accuracy: 0.9235\n",
            "Epoch 44/200\n",
            "81/81 [==============================] - 0s 2ms/step - loss: 0.3333 - accuracy: 0.9037\n",
            "Epoch 45/200\n",
            "81/81 [==============================] - 0s 2ms/step - loss: 0.3464 - accuracy: 0.8988\n",
            "Epoch 46/200\n",
            "81/81 [==============================] - 0s 2ms/step - loss: 0.3087 - accuracy: 0.8963\n",
            "Epoch 47/200\n",
            "81/81 [==============================] - 0s 2ms/step - loss: 0.3329 - accuracy: 0.8840\n",
            "Epoch 48/200\n",
            "81/81 [==============================] - 0s 3ms/step - loss: 0.3384 - accuracy: 0.8938\n",
            "Epoch 49/200\n",
            "81/81 [==============================] - 0s 3ms/step - loss: 0.3499 - accuracy: 0.8889\n",
            "Epoch 50/200\n",
            "81/81 [==============================] - 0s 3ms/step - loss: 0.3260 - accuracy: 0.9259\n",
            "Epoch 51/200\n",
            "81/81 [==============================] - 0s 3ms/step - loss: 0.2796 - accuracy: 0.9210\n",
            "Epoch 52/200\n",
            "81/81 [==============================] - 0s 3ms/step - loss: 0.2953 - accuracy: 0.9012\n",
            "Epoch 53/200\n",
            "81/81 [==============================] - 0s 3ms/step - loss: 0.2708 - accuracy: 0.9210\n",
            "Epoch 54/200\n",
            "81/81 [==============================] - 0s 4ms/step - loss: 0.3158 - accuracy: 0.9160\n",
            "Epoch 55/200\n",
            "81/81 [==============================] - 0s 3ms/step - loss: 0.3164 - accuracy: 0.8938\n",
            "Epoch 56/200\n",
            "81/81 [==============================] - 0s 3ms/step - loss: 0.3323 - accuracy: 0.8988\n",
            "Epoch 57/200\n",
            "81/81 [==============================] - 0s 3ms/step - loss: 0.3498 - accuracy: 0.8765\n",
            "Epoch 58/200\n",
            "81/81 [==============================] - 0s 3ms/step - loss: 0.2440 - accuracy: 0.9210\n",
            "Epoch 59/200\n",
            "81/81 [==============================] - 0s 4ms/step - loss: 0.2953 - accuracy: 0.9111\n",
            "Epoch 60/200\n",
            "81/81 [==============================] - 0s 2ms/step - loss: 0.2467 - accuracy: 0.9284\n",
            "Epoch 61/200\n",
            "81/81 [==============================] - 0s 2ms/step - loss: 0.2906 - accuracy: 0.9037\n",
            "Epoch 62/200\n",
            "81/81 [==============================] - 0s 2ms/step - loss: 0.2587 - accuracy: 0.9210\n",
            "Epoch 63/200\n",
            "81/81 [==============================] - 0s 2ms/step - loss: 0.2760 - accuracy: 0.9309\n",
            "Epoch 64/200\n",
            "81/81 [==============================] - 0s 2ms/step - loss: 0.2100 - accuracy: 0.9358\n",
            "Epoch 65/200\n",
            "81/81 [==============================] - 0s 2ms/step - loss: 0.2928 - accuracy: 0.9037\n",
            "Epoch 66/200\n",
            "81/81 [==============================] - 0s 2ms/step - loss: 0.2182 - accuracy: 0.9333\n",
            "Epoch 67/200\n",
            "81/81 [==============================] - 0s 2ms/step - loss: 0.1719 - accuracy: 0.9481\n",
            "Epoch 68/200\n",
            "81/81 [==============================] - 0s 2ms/step - loss: 0.2537 - accuracy: 0.9086\n",
            "Epoch 69/200\n",
            "81/81 [==============================] - 0s 2ms/step - loss: 0.2388 - accuracy: 0.9358\n",
            "Epoch 70/200\n",
            "81/81 [==============================] - 0s 2ms/step - loss: 0.2082 - accuracy: 0.9309\n",
            "Epoch 71/200\n",
            "81/81 [==============================] - 0s 2ms/step - loss: 0.2127 - accuracy: 0.9407\n",
            "Epoch 72/200\n",
            "81/81 [==============================] - 0s 2ms/step - loss: 0.2306 - accuracy: 0.9383\n",
            "Epoch 73/200\n",
            "81/81 [==============================] - 0s 2ms/step - loss: 0.2133 - accuracy: 0.9333\n",
            "Epoch 74/200\n",
            "81/81 [==============================] - 0s 2ms/step - loss: 0.2557 - accuracy: 0.9210\n",
            "Epoch 75/200\n",
            "81/81 [==============================] - 0s 2ms/step - loss: 0.2188 - accuracy: 0.9383\n",
            "Epoch 76/200\n",
            "81/81 [==============================] - 0s 2ms/step - loss: 0.2125 - accuracy: 0.9358\n",
            "Epoch 77/200\n",
            "81/81 [==============================] - 0s 2ms/step - loss: 0.2534 - accuracy: 0.9160\n",
            "Epoch 78/200\n",
            "81/81 [==============================] - 0s 2ms/step - loss: 0.1529 - accuracy: 0.9531\n",
            "Epoch 79/200\n",
            "81/81 [==============================] - 0s 2ms/step - loss: 0.1983 - accuracy: 0.9383\n",
            "Epoch 80/200\n",
            "81/81 [==============================] - 0s 2ms/step - loss: 0.2100 - accuracy: 0.9432\n",
            "Epoch 81/200\n",
            "81/81 [==============================] - 0s 2ms/step - loss: 0.1572 - accuracy: 0.9457\n",
            "Epoch 82/200\n",
            "81/81 [==============================] - 0s 2ms/step - loss: 0.1827 - accuracy: 0.9407\n",
            "Epoch 83/200\n",
            "81/81 [==============================] - 0s 2ms/step - loss: 0.1902 - accuracy: 0.9358\n",
            "Epoch 84/200\n",
            "81/81 [==============================] - 0s 2ms/step - loss: 0.2222 - accuracy: 0.9407\n",
            "Epoch 85/200\n",
            "81/81 [==============================] - 0s 2ms/step - loss: 0.2099 - accuracy: 0.9284\n",
            "Epoch 86/200\n",
            "81/81 [==============================] - 0s 2ms/step - loss: 0.2012 - accuracy: 0.9432\n",
            "Epoch 87/200\n",
            "81/81 [==============================] - 0s 2ms/step - loss: 0.2685 - accuracy: 0.9111\n",
            "Epoch 88/200\n",
            "81/81 [==============================] - 0s 2ms/step - loss: 0.2355 - accuracy: 0.9259\n",
            "Epoch 89/200\n",
            "81/81 [==============================] - 0s 2ms/step - loss: 0.2272 - accuracy: 0.9358\n",
            "Epoch 90/200\n",
            "81/81 [==============================] - 0s 2ms/step - loss: 0.2174 - accuracy: 0.9383\n",
            "Epoch 91/200\n",
            "81/81 [==============================] - 0s 2ms/step - loss: 0.2123 - accuracy: 0.9309\n",
            "Epoch 92/200\n",
            "81/81 [==============================] - 0s 2ms/step - loss: 0.2687 - accuracy: 0.9259\n",
            "Epoch 93/200\n",
            "81/81 [==============================] - 0s 2ms/step - loss: 0.1746 - accuracy: 0.9481\n",
            "Epoch 94/200\n",
            "81/81 [==============================] - 0s 2ms/step - loss: 0.2128 - accuracy: 0.9259\n",
            "Epoch 95/200\n",
            "81/81 [==============================] - 0s 2ms/step - loss: 0.2214 - accuracy: 0.9259\n",
            "Epoch 96/200\n",
            "81/81 [==============================] - 0s 2ms/step - loss: 0.1892 - accuracy: 0.9309\n",
            "Epoch 97/200\n",
            "81/81 [==============================] - 0s 2ms/step - loss: 0.1496 - accuracy: 0.9506\n",
            "Epoch 98/200\n",
            "81/81 [==============================] - 0s 2ms/step - loss: 0.1515 - accuracy: 0.9531\n",
            "Epoch 99/200\n",
            "81/81 [==============================] - 0s 2ms/step - loss: 0.1584 - accuracy: 0.9556\n",
            "Epoch 100/200\n",
            "81/81 [==============================] - 0s 2ms/step - loss: 0.2362 - accuracy: 0.9333\n",
            "Epoch 101/200\n",
            "81/81 [==============================] - 0s 2ms/step - loss: 0.2192 - accuracy: 0.9358\n",
            "Epoch 102/200\n",
            "81/81 [==============================] - 0s 2ms/step - loss: 0.1742 - accuracy: 0.9432\n",
            "Epoch 103/200\n",
            "81/81 [==============================] - 0s 2ms/step - loss: 0.1754 - accuracy: 0.9531\n",
            "Epoch 104/200\n",
            "81/81 [==============================] - 0s 2ms/step - loss: 0.1832 - accuracy: 0.9358\n",
            "Epoch 105/200\n",
            "81/81 [==============================] - 0s 2ms/step - loss: 0.1616 - accuracy: 0.9630\n",
            "Epoch 106/200\n",
            "81/81 [==============================] - 0s 3ms/step - loss: 0.1485 - accuracy: 0.9556\n",
            "Epoch 107/200\n",
            "81/81 [==============================] - 0s 2ms/step - loss: 0.1563 - accuracy: 0.9457\n",
            "Epoch 108/200\n",
            "81/81 [==============================] - 0s 2ms/step - loss: 0.1639 - accuracy: 0.9556\n",
            "Epoch 109/200\n",
            "81/81 [==============================] - 0s 2ms/step - loss: 0.1593 - accuracy: 0.9481\n",
            "Epoch 110/200\n",
            "81/81 [==============================] - 0s 2ms/step - loss: 0.1906 - accuracy: 0.9432\n",
            "Epoch 111/200\n",
            "81/81 [==============================] - 0s 2ms/step - loss: 0.1788 - accuracy: 0.9432\n",
            "Epoch 112/200\n",
            "81/81 [==============================] - 0s 2ms/step - loss: 0.1201 - accuracy: 0.9704\n",
            "Epoch 113/200\n",
            "81/81 [==============================] - 0s 2ms/step - loss: 0.2064 - accuracy: 0.9309\n",
            "Epoch 114/200\n",
            "81/81 [==============================] - 0s 3ms/step - loss: 0.1701 - accuracy: 0.9432\n",
            "Epoch 115/200\n",
            "81/81 [==============================] - 0s 3ms/step - loss: 0.1525 - accuracy: 0.9531\n",
            "Epoch 116/200\n",
            "81/81 [==============================] - 0s 3ms/step - loss: 0.2011 - accuracy: 0.9284\n",
            "Epoch 117/200\n",
            "81/81 [==============================] - 0s 3ms/step - loss: 0.2113 - accuracy: 0.9407\n",
            "Epoch 118/200\n",
            "81/81 [==============================] - 0s 3ms/step - loss: 0.1105 - accuracy: 0.9654\n",
            "Epoch 119/200\n",
            "81/81 [==============================] - 0s 3ms/step - loss: 0.1501 - accuracy: 0.9432\n",
            "Epoch 120/200\n",
            "81/81 [==============================] - 0s 3ms/step - loss: 0.1795 - accuracy: 0.9605\n",
            "Epoch 121/200\n",
            "81/81 [==============================] - 0s 3ms/step - loss: 0.1249 - accuracy: 0.9605\n",
            "Epoch 122/200\n",
            "81/81 [==============================] - 0s 3ms/step - loss: 0.1733 - accuracy: 0.9531\n",
            "Epoch 123/200\n",
            "81/81 [==============================] - 0s 3ms/step - loss: 0.1721 - accuracy: 0.9457\n",
            "Epoch 124/200\n",
            "81/81 [==============================] - 0s 3ms/step - loss: 0.1687 - accuracy: 0.9457\n",
            "Epoch 125/200\n",
            "81/81 [==============================] - 0s 3ms/step - loss: 0.1701 - accuracy: 0.9383\n",
            "Epoch 126/200\n",
            "81/81 [==============================] - 0s 2ms/step - loss: 0.1489 - accuracy: 0.9432\n",
            "Epoch 127/200\n",
            "81/81 [==============================] - 0s 2ms/step - loss: 0.1651 - accuracy: 0.9457\n",
            "Epoch 128/200\n",
            "81/81 [==============================] - 0s 2ms/step - loss: 0.1721 - accuracy: 0.9506\n",
            "Epoch 129/200\n",
            "81/81 [==============================] - 0s 2ms/step - loss: 0.1518 - accuracy: 0.9580\n",
            "Epoch 130/200\n",
            "81/81 [==============================] - 0s 2ms/step - loss: 0.1144 - accuracy: 0.9605\n",
            "Epoch 131/200\n",
            "81/81 [==============================] - 0s 2ms/step - loss: 0.1452 - accuracy: 0.9679\n",
            "Epoch 132/200\n",
            "81/81 [==============================] - 0s 2ms/step - loss: 0.1673 - accuracy: 0.9506\n",
            "Epoch 133/200\n",
            "81/81 [==============================] - 0s 2ms/step - loss: 0.1672 - accuracy: 0.9481\n",
            "Epoch 134/200\n",
            "81/81 [==============================] - 0s 2ms/step - loss: 0.1340 - accuracy: 0.9556\n",
            "Epoch 135/200\n",
            "81/81 [==============================] - 0s 2ms/step - loss: 0.1798 - accuracy: 0.9531\n",
            "Epoch 136/200\n",
            "81/81 [==============================] - 0s 2ms/step - loss: 0.1209 - accuracy: 0.9728\n",
            "Epoch 137/200\n",
            "81/81 [==============================] - 0s 2ms/step - loss: 0.1646 - accuracy: 0.9556\n",
            "Epoch 138/200\n",
            "81/81 [==============================] - 0s 2ms/step - loss: 0.1356 - accuracy: 0.9630\n",
            "Epoch 139/200\n",
            "81/81 [==============================] - 0s 2ms/step - loss: 0.1113 - accuracy: 0.9654\n",
            "Epoch 140/200\n",
            "81/81 [==============================] - 0s 2ms/step - loss: 0.1541 - accuracy: 0.9605\n",
            "Epoch 141/200\n",
            "81/81 [==============================] - 0s 2ms/step - loss: 0.1641 - accuracy: 0.9432\n",
            "Epoch 142/200\n",
            "81/81 [==============================] - 0s 2ms/step - loss: 0.1821 - accuracy: 0.9358\n",
            "Epoch 143/200\n",
            "81/81 [==============================] - 0s 2ms/step - loss: 0.1581 - accuracy: 0.9506\n",
            "Epoch 144/200\n",
            "81/81 [==============================] - 0s 2ms/step - loss: 0.1362 - accuracy: 0.9556\n",
            "Epoch 145/200\n",
            "81/81 [==============================] - 0s 2ms/step - loss: 0.1414 - accuracy: 0.9580\n",
            "Epoch 146/200\n",
            "81/81 [==============================] - 0s 2ms/step - loss: 0.1155 - accuracy: 0.9704\n",
            "Epoch 147/200\n",
            "81/81 [==============================] - 0s 2ms/step - loss: 0.2186 - accuracy: 0.9235\n",
            "Epoch 148/200\n",
            "81/81 [==============================] - 0s 2ms/step - loss: 0.1440 - accuracy: 0.9556\n",
            "Epoch 149/200\n",
            "81/81 [==============================] - 0s 2ms/step - loss: 0.1838 - accuracy: 0.9457\n",
            "Epoch 150/200\n",
            "81/81 [==============================] - 0s 2ms/step - loss: 0.1777 - accuracy: 0.9407\n",
            "Epoch 151/200\n",
            "81/81 [==============================] - 0s 2ms/step - loss: 0.1231 - accuracy: 0.9580\n",
            "Epoch 152/200\n",
            "81/81 [==============================] - 0s 2ms/step - loss: 0.1251 - accuracy: 0.9679\n",
            "Epoch 153/200\n",
            "81/81 [==============================] - 0s 2ms/step - loss: 0.1441 - accuracy: 0.9580\n",
            "Epoch 154/200\n",
            "81/81 [==============================] - 0s 2ms/step - loss: 0.1737 - accuracy: 0.9506\n",
            "Epoch 155/200\n",
            "81/81 [==============================] - 0s 2ms/step - loss: 0.1149 - accuracy: 0.9580\n",
            "Epoch 156/200\n",
            "81/81 [==============================] - 0s 2ms/step - loss: 0.1004 - accuracy: 0.9728\n",
            "Epoch 157/200\n",
            "81/81 [==============================] - 0s 2ms/step - loss: 0.1230 - accuracy: 0.9605\n",
            "Epoch 158/200\n",
            "81/81 [==============================] - 0s 2ms/step - loss: 0.1407 - accuracy: 0.9531\n",
            "Epoch 159/200\n",
            "81/81 [==============================] - 0s 2ms/step - loss: 0.1466 - accuracy: 0.9531\n",
            "Epoch 160/200\n",
            "81/81 [==============================] - 0s 2ms/step - loss: 0.1310 - accuracy: 0.9630\n",
            "Epoch 161/200\n",
            "81/81 [==============================] - 0s 2ms/step - loss: 0.0972 - accuracy: 0.9679\n",
            "Epoch 162/200\n",
            "81/81 [==============================] - 0s 2ms/step - loss: 0.1492 - accuracy: 0.9605\n",
            "Epoch 163/200\n",
            "81/81 [==============================] - 0s 2ms/step - loss: 0.1408 - accuracy: 0.9556\n",
            "Epoch 164/200\n",
            "81/81 [==============================] - 0s 2ms/step - loss: 0.1285 - accuracy: 0.9630\n",
            "Epoch 165/200\n",
            "81/81 [==============================] - 0s 2ms/step - loss: 0.1526 - accuracy: 0.9531\n",
            "Epoch 166/200\n",
            "81/81 [==============================] - 0s 2ms/step - loss: 0.1004 - accuracy: 0.9630\n",
            "Epoch 167/200\n",
            "81/81 [==============================] - 0s 2ms/step - loss: 0.1558 - accuracy: 0.9481\n",
            "Epoch 168/200\n",
            "81/81 [==============================] - 0s 2ms/step - loss: 0.1976 - accuracy: 0.9407\n",
            "Epoch 169/200\n",
            "81/81 [==============================] - 0s 2ms/step - loss: 0.1548 - accuracy: 0.9605\n",
            "Epoch 170/200\n",
            "81/81 [==============================] - 0s 2ms/step - loss: 0.1407 - accuracy: 0.9654\n",
            "Epoch 171/200\n",
            "81/81 [==============================] - 0s 2ms/step - loss: 0.1177 - accuracy: 0.9605\n",
            "Epoch 172/200\n",
            "81/81 [==============================] - 0s 2ms/step - loss: 0.1591 - accuracy: 0.9580\n",
            "Epoch 173/200\n",
            "81/81 [==============================] - 0s 2ms/step - loss: 0.1646 - accuracy: 0.9457\n",
            "Epoch 174/200\n",
            "81/81 [==============================] - 0s 2ms/step - loss: 0.1682 - accuracy: 0.9457\n",
            "Epoch 175/200\n",
            "81/81 [==============================] - 0s 2ms/step - loss: 0.0967 - accuracy: 0.9679\n",
            "Epoch 176/200\n",
            "81/81 [==============================] - 0s 2ms/step - loss: 0.1517 - accuracy: 0.9506\n",
            "Epoch 177/200\n",
            "81/81 [==============================] - 0s 2ms/step - loss: 0.1080 - accuracy: 0.9580\n",
            "Epoch 178/200\n",
            "81/81 [==============================] - 0s 2ms/step - loss: 0.2137 - accuracy: 0.9185\n",
            "Epoch 179/200\n",
            "81/81 [==============================] - 0s 2ms/step - loss: 0.1481 - accuracy: 0.9506\n",
            "Epoch 180/200\n",
            "81/81 [==============================] - 0s 3ms/step - loss: 0.1188 - accuracy: 0.9580\n",
            "Epoch 181/200\n",
            "81/81 [==============================] - 0s 3ms/step - loss: 0.1067 - accuracy: 0.9778\n",
            "Epoch 182/200\n",
            "81/81 [==============================] - 0s 3ms/step - loss: 0.1508 - accuracy: 0.9531\n",
            "Epoch 183/200\n",
            "81/81 [==============================] - 0s 3ms/step - loss: 0.1671 - accuracy: 0.9506\n",
            "Epoch 184/200\n",
            "81/81 [==============================] - 0s 3ms/step - loss: 0.1078 - accuracy: 0.9654\n",
            "Epoch 185/200\n",
            "81/81 [==============================] - 0s 3ms/step - loss: 0.1458 - accuracy: 0.9457\n",
            "Epoch 186/200\n",
            "81/81 [==============================] - 0s 3ms/step - loss: 0.1019 - accuracy: 0.9605\n",
            "Epoch 187/200\n",
            "81/81 [==============================] - 0s 3ms/step - loss: 0.0880 - accuracy: 0.9704\n",
            "Epoch 188/200\n",
            "81/81 [==============================] - 0s 3ms/step - loss: 0.1006 - accuracy: 0.9704\n",
            "Epoch 189/200\n",
            "81/81 [==============================] - 0s 3ms/step - loss: 0.1094 - accuracy: 0.9704\n",
            "Epoch 190/200\n",
            "81/81 [==============================] - 0s 3ms/step - loss: 0.1361 - accuracy: 0.9531\n",
            "Epoch 191/200\n",
            "81/81 [==============================] - 0s 3ms/step - loss: 0.1410 - accuracy: 0.9556\n",
            "Epoch 192/200\n",
            "81/81 [==============================] - 0s 2ms/step - loss: 0.1103 - accuracy: 0.9679\n",
            "Epoch 193/200\n",
            "81/81 [==============================] - 0s 2ms/step - loss: 0.1201 - accuracy: 0.9704\n",
            "Epoch 194/200\n",
            "81/81 [==============================] - 0s 2ms/step - loss: 0.1833 - accuracy: 0.9481\n",
            "Epoch 195/200\n",
            "81/81 [==============================] - 0s 2ms/step - loss: 0.1018 - accuracy: 0.9704\n",
            "Epoch 196/200\n",
            "81/81 [==============================] - 0s 2ms/step - loss: 0.0991 - accuracy: 0.9778\n",
            "Epoch 197/200\n",
            "81/81 [==============================] - 0s 2ms/step - loss: 0.0964 - accuracy: 0.9728\n",
            "Epoch 198/200\n",
            "81/81 [==============================] - 0s 2ms/step - loss: 0.1283 - accuracy: 0.9580\n",
            "Epoch 199/200\n",
            "81/81 [==============================] - 0s 2ms/step - loss: 0.1737 - accuracy: 0.9407\n",
            "Epoch 200/200\n",
            "81/81 [==============================] - 0s 2ms/step - loss: 0.1003 - accuracy: 0.9753\n"
          ]
        }
      ],
      "source": [
        "hist = model.fit(trainX, trainY, epochs=200, batch_size=5, verbose=1)"
      ]
    },
    {
      "cell_type": "code",
      "execution_count": null,
      "metadata": {
        "colab": {
          "base_uri": "https://localhost:8080/"
        },
        "id": "o9AYrXyWn3Ij",
        "outputId": "69614a47-f9d7-46d6-a49f-0525e652d291"
      },
      "outputs": [
        {
          "name": "stdout",
          "output_type": "stream",
          "text": [
            "Done\n"
          ]
        },
        {
          "name": "stderr",
          "output_type": "stream",
          "text": [
            "/usr/local/lib/python3.10/dist-packages/keras/src/engine/training.py:3000: UserWarning: You are saving your model as an HDF5 file via `model.save()`. This file format is considered legacy. We recommend using instead the native Keras format, e.g. `model.save('my_model.keras')`.\n",
            "  saving_api.save_model(\n"
          ]
        }
      ],
      "source": [
        "model.save('chatbot_model.h5', hist)\n",
        "print('Done')"
      ]
    },
    {
      "cell_type": "code",
      "execution_count": null,
      "metadata": {
        "id": "zBs9nUjot5cn"
      },
      "outputs": [],
      "source": []
    },
    {
      "cell_type": "code",
      "execution_count": null,
      "metadata": {
        "id": "z7z-C6P8uFOY"
      },
      "outputs": [],
      "source": [
        "lemmatizer = WordNetLemmatizer()\n",
        "intents = json.loads(open('intents.json').read())\n",
        "\n",
        "words = pickle.load(open(\"words.pkl\", 'rb'))\n",
        "classes = pickle.load(open(\"classes.pkl\", 'rb'))\n",
        "model = load_model('chatbot_model.h5')"
      ]
    },
    {
      "cell_type": "code",
      "execution_count": null,
      "metadata": {
        "id": "I6JC1iuKub1E"
      },
      "outputs": [],
      "source": [
        "def clean_up_sentence(sentence):\n",
        "    sentence_words = nltk.word_tokenize(sentence)\n",
        "    sentence_words = [lemmatizer.lemmatize(word) for word in sentence_words]\n",
        "    return sentence_words\n",
        "\n",
        "def bag_of_words(sentence):\n",
        "    sentence_words = clean_up_sentence(sentence)\n",
        "    bag = [0] * len(words)\n",
        "    for w in sentence_words:\n",
        "        for i, word in enumerate(words):\n",
        "            if word == w:\n",
        "                bag[i]=1\n",
        "    return np.array(bag)\n",
        "\n",
        "def predict_class(sentence):\n",
        "    bow = bag_of_words(sentence)\n",
        "    res = model.predict(np.array([bow]))[0]\n",
        "    ERROR_THRESHOLD = 0.25\n",
        "    results = [[i, r] for i, r in enumerate(res) if r> ERROR_THRESHOLD]\n",
        "\n",
        "    results.sort(key=lambda x: x[1], reverse = True)\n",
        "    return_list = []\n",
        "    for r in results:\n",
        "        return_list.append({'intent': classes[r[0]], 'probability': str(r[1])})\n",
        "    return return_list\n",
        "\n",
        "def get_response(intents_list, intents_json):\n",
        "    tag = intents_list[0]['intent']\n",
        "    list_of_intents = intents_json['intents']\n",
        "    for i in list_of_intents:\n",
        "        if i['tag'] == tag:\n",
        "            result = random.choice(i['responses'])\n",
        "            break\n",
        "    return result"
      ]
    },
    {
      "cell_type": "code",
      "execution_count": null,
      "metadata": {
        "id": "bLcJmcC3-aI0"
      },
      "outputs": [],
      "source": []
    },
    {
      "cell_type": "code",
      "execution_count": null,
      "metadata": {
        "colab": {
          "background_save": true,
          "base_uri": "https://localhost:8080/"
        },
        "id": "8z9DrovJtgGf",
        "outputId": "354c8c53-7c29-47cf-cf02-f33b03f689d0"
      },
      "outputs": [
        {
          "name": "stdout",
          "output_type": "stream",
          "text": [
            "1/1 [==============================] - 0s 178ms/step\n",
            "Hi there, how can I help?\n",
            "1/1 [==============================] - 0s 21ms/step\n",
            "College students\n",
            "1/1 [==============================] - 0s 21ms/step\n",
            "Good to see you again!\n",
            "1/1 [==============================] - 0s 21ms/step\n",
            "College is open 8am-5pm Monday-Saturday!\n",
            "1/1 [==============================] - 0s 22ms/step\n",
            "Hello!\n",
            "1/1 [==============================] - 0s 22ms/step\n",
            "College students\n",
            "1/1 [==============================] - 0s 34ms/step\n",
            "Our university offers Information Technology, computer Engineering, Mechanical engineering,Chemical engineering, Civil engineering and extc Engineering.\n"
          ]
        }
      ],
      "source": [
        "while True:\n",
        "    message = input(\"\")\n",
        "    ints = predict_class(message)\n",
        "    res = get_response(ints, intents)\n",
        "    print(res)"
      ]
    },
    {
      "cell_type": "code",
      "execution_count": null,
      "metadata": {
        "id": "cu8ppeZIulFO"
      },
      "outputs": [],
      "source": []
    }
  ],
  "metadata": {
    "colab": {
      "provenance": [],
      "toc_visible": true
    },
    "kernelspec": {
      "display_name": "Python 3",
      "name": "python3"
    },
    "language_info": {
      "name": "python"
    }
  },
  "nbformat": 4,
  "nbformat_minor": 0
}